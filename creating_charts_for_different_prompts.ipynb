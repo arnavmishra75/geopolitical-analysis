{
  "cells": [
    {
      "cell_type": "code",
      "execution_count": null,
      "metadata": {
        "colab": {
          "base_uri": "https://localhost:8080/"
        },
        "id": "mJ0kbzp4WO8R",
        "outputId": "f7ae1daa-8239-44ec-85a9-410e4fcd2611"
      },
      "outputs": [],
      "source": [
        "!pip install google-generativeai\n",
        "!pip install vaderSentiment"
      ]
    },
    {
      "cell_type": "code",
      "execution_count": null,
      "metadata": {
        "id": "bRQuRLvdWRxQ"
      },
      "outputs": [],
      "source": [
        "import google.generativeai as palm\n",
        "import os\n",
        "import pandas as pd\n",
        "import numpy as np\n",
        "from vaderSentiment.vaderSentiment import SentimentIntensityAnalyzer\n",
        "from math import comb\n",
        "import matplotlib.pyplot as plt"
      ]
    },
    {
      "cell_type": "code",
      "execution_count": null,
      "metadata": {
        "id": "h_nnpmtvWR6i"
      },
      "outputs": [],
      "source": [
        "palm.configure(api_key=\"key\")"
      ]
    },
    {
      "cell_type": "code",
      "execution_count": null,
      "metadata": {
        "colab": {
          "base_uri": "https://localhost:8080/",
          "height": 1000
        },
        "id": "81hfoS2rYg-A",
        "outputId": "4898a5a9-b5eb-4644-862e-d3bd65586f4d"
      },
      "outputs": [],
      "source": [
        "for model in palm.list_models():\n",
        "    print(model)"
      ]
    },
    {
      "cell_type": "code",
      "execution_count": null,
      "metadata": {
        "colab": {
          "base_uri": "https://localhost:8080/",
          "height": 34
        },
        "id": "olPvWyfLY_Ao",
        "outputId": "48a3ae1a-39be-45f7-f9b4-704ae54420bf"
      },
      "outputs": [],
      "source": [
        "models = [m for m in palm.list_models()]\n",
        "#chat_model = models[0].name\n",
        "text_model = models[1].name\n",
        "#embed_model = models[2].name\n",
        "#chat_model, text_model, embed_model\n",
        "print(text_model)"
      ]
    },
    {
      "cell_type": "code",
      "execution_count": null,
      "metadata": {
        "id": "UM56eolAFvf3"
      },
      "outputs": [],
      "source": [
        "def sentiment_score(sentence):\n",
        "    sid = SentimentIntensityAnalyzer()\n",
        "    if sentence == \"\" or sentence == None:\n",
        "        return None\n",
        "    raw_score = sid.polarity_scores(sentence)[\"compound\"]\n",
        "    tension_score = round(((1 - ((raw_score + 1) / 2))*100), 3)\n",
        "    return tension_score"
      ]
    },
    {
      "cell_type": "code",
      "execution_count": null,
      "metadata": {
        "id": "09q6IdzUP2jr"
      },
      "outputs": [],
      "source": [
        "def score_tension_baseline(country1, country2):\n",
        "  prompt = f\"Talk about the political relation between {country1} and {country2}. Do not filter out any information. Do not give suggestions on how to fix their relations. Only tell the facts. Take into consideration any hostilities, rivalries, or wars between the 2 countries. Do not filter anything. Give the answer in short bullet points while keeping everything asked in consideration\"\n",
        "\n",
        "  completion = palm.generate_text(\n",
        "      model=text_model,\n",
        "      prompt=prompt,\n",
        "      temperature=0.5,\n",
        "      max_output_tokens=1200,\n",
        "  )\n",
        "\n",
        "  relation = completion.result\n",
        "\n",
        "  if relation is not None or relation != \"\":\n",
        "    tension_score = sentiment_score(relation)\n",
        "    return tension_score\n",
        "  else:\n",
        "    return None"
      ]
    },
    {
      "cell_type": "code",
      "execution_count": null,
      "metadata": {
        "id": "ybhbUFp8Zy8l"
      },
      "outputs": [],
      "source": [
        "def score_tension_on_finance(country1, country2):\n",
        "  prompt = f\"How has the political relationship between {country1} and {country2} been in the last 50 years? Take economic and trade rivalry between these 2 countries into consideration. For example, if a country A has put sanctions or conflicts as a result of business and trade regulations or foreign policy, please give emphasis to that. Be specific in your analysis.\"\n",
        "\n",
        "  completion = palm.generate_text(\n",
        "      model=text_model,\n",
        "      prompt=prompt,\n",
        "      temperature=0.5,\n",
        "      max_output_tokens=1200,\n",
        "  )\n",
        "\n",
        "  relation = completion.result\n",
        "\n",
        "  if relation is not None or relation != \"\":\n",
        "    tension_score = sentiment_score(relation)\n",
        "    return tension_score\n",
        "  else:\n",
        "    return None"
      ]
    },
    {
      "cell_type": "code",
      "execution_count": null,
      "metadata": {
        "id": "5ZTX8-ymiR3O"
      },
      "outputs": [],
      "source": [
        "def score_tension_on_conflict(country1, country2):\n",
        "  prompt = f\"How has the political relationship between {country1} and {country2} been in the last 50 years? Please put emphasis on any geopolitical discords, wars or potential war scenarios in the past or near future, border disagreements or tensions due to any conflicting or alarming situations and so forth. Please be specific and explain the analysis with examples.\"\n",
        "  completion = palm.generate_text(\n",
        "      model=text_model,\n",
        "      prompt=prompt,\n",
        "      temperature=0.5,\n",
        "      max_output_tokens=1200,\n",
        "  )\n",
        "\n",
        "  relation = completion.result\n",
        "\n",
        "  if relation is not None or relation != \"\":\n",
        "    tension_score = sentiment_score(relation)\n",
        "    return tension_score\n",
        "  else:\n",
        "    return None"
      ]
    },
    {
      "cell_type": "code",
      "execution_count": null,
      "metadata": {
        "id": "N2jjjHGBiRoN"
      },
      "outputs": [],
      "source": [
        "def score_tension_on_social(country1, country2):\n",
        "  prompt = f\"How has the political relationship between {country1} and {country2} been in the last 50 years? Can we take demographics, socio-political, immigration, community and religious factors into consideration while analyzing the relation between the 2 countries and how specifically these factors have resulted into relational harmony or discord between the 2 countries?\"\n",
        "\n",
        "  completion = palm.generate_text(\n",
        "      model=text_model,\n",
        "      prompt=prompt,\n",
        "      temperature=0.5,\n",
        "      max_output_tokens=1200,\n",
        "  )\n",
        "\n",
        "  relation = completion.result\n",
        "\n",
        "  if relation is not None or relation != \"\":\n",
        "    tension_score = sentiment_score(relation)\n",
        "    return tension_score\n",
        "  else:\n",
        "    return None"
      ]
    },
    {
      "cell_type": "code",
      "execution_count": null,
      "metadata": {
        "id": "ycut70SPPXEO"
      },
      "outputs": [],
      "source": [
        "def return_raw_completion_baseline(country1, country2):\n",
        "  prompt = f\"Talk about the political relation between {country1} and {country2}. Do not filter out any information. Do not give suggestions on how to fix their relations. Only tell the facts. Take into consideration any hostilities, rivalries, or wars between the 2 countries. Do not filter anything. Give the answer in bullet points while keeping everything asked in consideration\"\n",
        "\n",
        "  completion = palm.generate_text(\n",
        "      model=text_model,\n",
        "      prompt=prompt,\n",
        "      temperature=0.5,\n",
        "      max_output_tokens=1200,\n",
        "  )\n",
        "\n",
        "  relation = completion.result\n",
        "  return relation"
      ]
    },
    {
      "cell_type": "code",
      "execution_count": null,
      "metadata": {
        "id": "3rM3EL6RQMQ9"
      },
      "outputs": [],
      "source": [
        "def return_raw_completion_on_finance(country1, country2):\n",
        "  prompt = f\"How has the political relationship between {country1} and {country2} been in the last 50 years? Take economic and trade rivalry between these 2 countries into consideration. For example, if a country A has put sanctions or conflicts as a result of business and trade regulations or foreign policy, please give emphasis to that. Be specific in your analysis.\"\n",
        "\n",
        "  completion = palm.generate_text(\n",
        "      model=text_model,\n",
        "      prompt=prompt,\n",
        "      temperature=0.5,\n",
        "      max_output_tokens=1200,\n",
        "  )\n",
        "\n",
        "  relation = completion.result\n",
        "  return relation"
      ]
    },
    {
      "cell_type": "code",
      "execution_count": null,
      "metadata": {
        "id": "LrEwz66PQVTt"
      },
      "outputs": [],
      "source": [
        "def return_raw_completion_on_conflict(country1, country2):\n",
        "  prompt = f\"How has the political relationship between {country1} and {country2} been in the last 50 years? Please put emphasis on any geopolitical discords, wars or potential war scenarios in the past or near future, border disagreements or tensions due to any conflicting or alarming situations and so forth. Please be specific and explain the analysis with examples.\"\n",
        "  completion = palm.generate_text(\n",
        "      model=text_model,\n",
        "      prompt=prompt,\n",
        "      temperature=0.5,\n",
        "      max_output_tokens=1200,\n",
        "  )\n",
        "\n",
        "  relation = completion.result\n",
        "  return relation"
      ]
    },
    {
      "cell_type": "code",
      "execution_count": null,
      "metadata": {
        "id": "rulIczBeQbVG"
      },
      "outputs": [],
      "source": [
        "def return_raw_completion_on_social(country1, country2):\n",
        "  prompt = f\"How has the political relationship between {country1} and {country2} been in the last 50 years? Can we take demographics, socio-political, immigration, community and religious factors into consideration while analyzing the relation between the 2 countries and how specifically these factors have resulted into relational harmony or discord between the 2 countries?\"\n",
        "\n",
        "  completion = palm.generate_text(\n",
        "      model=text_model,\n",
        "      prompt=prompt,\n",
        "      temperature=0.5,\n",
        "      max_output_tokens=1200,\n",
        "  )\n",
        "\n",
        "  relation = completion.result\n",
        "  return relation"
      ]
    },
    {
      "cell_type": "code",
      "execution_count": null,
      "metadata": {
        "id": "5QfBYCJrR_tN"
      },
      "outputs": [],
      "source": [
        "from IPython.display import display\n",
        "from IPython.display import Markdown\n",
        "import textwrap\n",
        "def to_markdown(text):\n",
        "  text = text.replace('•', '  *')\n",
        "  return Markdown(textwrap.indent(text, '> ', predicate=lambda _: True))"
      ]
    },
    {
      "cell_type": "code",
      "execution_count": null,
      "metadata": {
        "colab": {
          "base_uri": "https://localhost:8080/",
          "height": 434
        },
        "id": "v0QThdq1Q3Ng",
        "outputId": "796a1aa6-22b2-40fd-9311-ce2e6ad8535c"
      },
      "outputs": [],
      "source": [
        "to_markdown(return_raw_completion_baseline(\"China\", \"Japan\"))"
      ]
    },
    {
      "cell_type": "code",
      "execution_count": null,
      "metadata": {
        "id": "oe1ikETkgkfD"
      },
      "outputs": [],
      "source": [
        " test_set = [\"China\", \"India\", \"Saudi Arabia\", \"Yemen\", \"Syria\", \"Iran\", \"Japan\", \"Pakistan\", \"Israel\", \"Turkmenistan\"]"
      ]
    },
    {
      "cell_type": "code",
      "execution_count": null,
      "metadata": {
        "id": "zL_SJpr_bMTP"
      },
      "outputs": [],
      "source": [
        "def create_pairs(countries):\n",
        "  pairs = []\n",
        "  for i in range(len(countries)):\n",
        "      for j in range(i+1, len(countries)):\n",
        "          pairs.append([countries[i], countries[j]])\n",
        "  return pairs"
      ]
    },
    {
      "cell_type": "code",
      "execution_count": null,
      "metadata": {
        "colab": {
          "base_uri": "https://localhost:8080/"
        },
        "id": "rW7fbmhxeECq",
        "outputId": "9546d2bf-655d-4cb1-865c-e815854f08ac"
      },
      "outputs": [],
      "source": [
        "test_country_pairs = create_pairs(test_set)\n",
        "len(test_country_pairs) == comb(len(test_set), 2)"
      ]
    },
    {
      "cell_type": "code",
      "execution_count": null,
      "metadata": {
        "id": "Jt0qIliNiJa1"
      },
      "outputs": [],
      "source": [
        "def create_tensions_df(country_pairs, tension_scorer):\n",
        "  scored_relations = {}\n",
        "  for i in range(len(country_pairs)):\n",
        "      country1 = country_pairs[i][0]\n",
        "      country2 = country_pairs[i][1]\n",
        "      scored_relations[f\"{country1}-{country2}\"] = tension_scorer(country1, country2)\n",
        "      print(f\"Finished Pairing #{i+1}!\")\n",
        "  tensions_df = pd.DataFrame(scored_relations.items(), columns=['Country Pairing', 'Tension Score'])\n",
        "  return tensions_df"
      ]
    },
    {
      "cell_type": "code",
      "execution_count": null,
      "metadata": {
        "colab": {
          "base_uri": "https://localhost:8080/",
          "height": 798
        },
        "id": "9jjV_wl0mAE7",
        "outputId": "e9666423-e8fc-4e91-ba13-ec67cb50dc15"
      },
      "outputs": [],
      "source": [
        "finance_based_tensions = create_tensions_df(test_country_pairs, score_tension_on_finance)"
      ]
    },
    {
      "cell_type": "code",
      "execution_count": null,
      "metadata": {
        "colab": {
          "base_uri": "https://localhost:8080/",
          "height": 798
        },
        "id": "8xhNjtiKkau9",
        "outputId": "43a11064-50f2-4678-a7c3-24a44e095217"
      },
      "outputs": [],
      "source": [
        "conflict_based_tensions = create_tensions_df(test_country_pairs, score_tension_on_conflict)"
      ]
    },
    {
      "cell_type": "code",
      "execution_count": null,
      "metadata": {
        "colab": {
          "base_uri": "https://localhost:8080/",
          "height": 798
        },
        "id": "oyTEExE2kguF",
        "outputId": "206dd01a-539c-4c72-e67f-fa55f3bc7026"
      },
      "outputs": [],
      "source": [
        "social_based_tensions = create_tensions_df(test_country_pairs, score_tension_on_social)"
      ]
    },
    {
      "cell_type": "code",
      "execution_count": null,
      "metadata": {
        "id": "bNpR_jKdkrJn"
      },
      "outputs": [],
      "source": [
        "finance_based_tensions.to_csv(\"tensions_on_financial_basis.csv\")\n",
        "conflict_based_tensions.to_csv(\"tensions_on_conflict_basis.csv\")\n",
        "social_based_tensions.to_csv(\"tensions_on_social_basis.csv\")"
      ]
    },
    {
      "cell_type": "code",
      "execution_count": null,
      "metadata": {
        "id": "Xom5Di0hV-9L"
      },
      "outputs": [],
      "source": [
        "def create_topk_bar_chart_visual(df, topk, title, scale=\"log\"):\n",
        "    top_25 = df.sort_values(by='Tension Score', ascending=False).head(topk)\n",
        "    plt.figure(figsize=(12, 8))\n",
        "    bars = plt.bar(top_25['Country Pairing'], top_25['Tension Score'])\n",
        "    plt.xlabel('Country Pairing')\n",
        "    plt.ylabel('Tension Score')\n",
        "    plt.title(title)\n",
        "    plt.xticks(rotation=45, ha='right')\n",
        "    plt.xticks(fontsize=10)\n",
        "    plt.yscale(scale)\n",
        "    for bar in bars:\n",
        "        yval = bar.get_height()\n",
        "        plt.text(bar.get_x() + bar.get_width()/2, yval, round(yval, 2), ha='center', va='bottom')\n",
        "    plt.tight_layout()"
      ]
    },
    {
      "cell_type": "code",
      "execution_count": null,
      "metadata": {
        "id": "i-jtsmkPQf__"
      },
      "outputs": [],
      "source": [
        "finance_based_tensions = pd.read_csv(\"/content/tensions_on_financial_basis.csv\")\n",
        "conflict_based_tensions = pd.read_csv(\"/content/tensions_on_conflict_basis.csv\")\n",
        "social_based_tensions = pd.read_csv(\"/content/tensions_on_social_basis.csv\")"
      ]
    },
    {
      "cell_type": "code",
      "execution_count": null,
      "metadata": {
        "colab": {
          "base_uri": "https://localhost:8080/",
          "height": 725
        },
        "id": "29EjLxafm6eY",
        "outputId": "a92ed3c1-6497-4df6-a1e0-ea5554a37131"
      },
      "outputs": [],
      "source": [
        "create_topk_bar_chart_visual(finance_based_tensions, 25, \"Top 25 Country Pairings with Highest Tension Scores on a Financial Basis\", \"linear\")"
      ]
    },
    {
      "cell_type": "code",
      "execution_count": null,
      "metadata": {
        "colab": {
          "base_uri": "https://localhost:8080/",
          "height": 725
        },
        "id": "uHzBWi3hotY7",
        "outputId": "65ac40de-75c8-4ed2-e2f1-5d6777c31e9c"
      },
      "outputs": [],
      "source": [
        "create_topk_bar_chart_visual(conflict_based_tensions, 25, \"Top 25 Country Pairings with Highest Tension Scores on a Potential Conflict Basis\")"
      ]
    },
    {
      "cell_type": "code",
      "execution_count": null,
      "metadata": {
        "colab": {
          "base_uri": "https://localhost:8080/",
          "height": 725
        },
        "id": "YsBJnBSkndIm",
        "outputId": "61e9b827-1d17-4897-d3af-e07a3735c974"
      },
      "outputs": [],
      "source": [
        "create_topk_bar_chart_visual(social_based_tensions, 25, \"Top 25 Country Pairings with Highest Tension Scores on a Social Basis\", \"linear\")"
      ]
    },
    {
      "cell_type": "code",
      "execution_count": null,
      "metadata": {
        "colab": {
          "base_uri": "https://localhost:8080/",
          "height": 725
        },
        "id": "8R6zqi8cnedd",
        "outputId": "c0290862-2ecf-41e3-c728-f1c4f68559fd"
      },
      "outputs": [],
      "source": [
        "create_topk_bar_chart_visual(finance_based_tensions, 10, \"Top 10 Country Pairings with Highest Tension Scores on a Financial Basis\")"
      ]
    },
    {
      "cell_type": "code",
      "execution_count": null,
      "metadata": {
        "colab": {
          "base_uri": "https://localhost:8080/",
          "height": 725
        },
        "id": "LCyuoHiLnfKA",
        "outputId": "44e9dcd3-50f6-4a7f-9120-a93b27d71ab8"
      },
      "outputs": [],
      "source": [
        "create_topk_bar_chart_visual(conflict_based_tensions, 10, \"Top 10 Country Pairings with Highest Tension Scores on a Potential Conflict Basis\")"
      ]
    },
    {
      "cell_type": "code",
      "execution_count": null,
      "metadata": {
        "colab": {
          "base_uri": "https://localhost:8080/",
          "height": 725
        },
        "id": "xA1ueIX5ngAM",
        "outputId": "0e8d23f9-8a2f-4627-ac75-ce9dde36bb1c"
      },
      "outputs": [],
      "source": [
        "create_topk_bar_chart_visual(social_based_tensions, 10, \"Top 10 Country Pairings with Highest Tension Scores on a Social Basis\")"
      ]
    },
    {
      "cell_type": "code",
      "execution_count": null,
      "metadata": {
        "id": "aKJMCG_squkD"
      },
      "outputs": [],
      "source": [
        "baseline_tensions = pd.read_csv(\"/content/asian_tensions_final.csv\")"
      ]
    },
    {
      "cell_type": "code",
      "execution_count": null,
      "metadata": {
        "id": "ue21Gcx7w2Pz"
      },
      "outputs": [],
      "source": [
        "baseline_tensions.drop(\"Unnamed: 0\", axis=1, inplace=True)"
      ]
    },
    {
      "cell_type": "code",
      "execution_count": null,
      "metadata": {
        "id": "JwJXwr1tw_jS"
      },
      "outputs": [],
      "source": [
        "baseline_tensions[\"Prompt Type\"] = \"Baseline\"\n",
        "finance_based_tensions[\"Prompt Type\"] = \"Financial Basis\"\n",
        "conflict_based_tensions[\"Prompt Type\"] = \"Potential Conflict Basis\"\n",
        "social_based_tensions[\"Prompt Type\"] = \"Social Basis\""
      ]
    },
    {
      "cell_type": "code",
      "execution_count": null,
      "metadata": {
        "colab": {
          "base_uri": "https://localhost:8080/",
          "height": 423
        },
        "id": "4dBHBf-ixXbo",
        "outputId": "b4e4afb6-00d1-4b06-fcc7-685f778edd7d"
      },
      "outputs": [],
      "source": [
        "all_tensions = pd.concat([baseline_tensions, finance_based_tensions, conflict_based_tensions, social_based_tensions]).drop(\"Unnamed: 0\", axis=1)\n",
        "all_tensions = all_tensions[all_tensions[\"Country Pairing\"].isin(list(finance_based_tensions[\"Country Pairing\"]))].dropna().reset_index(drop=True)\n",
        "all_tensions"
      ]
    },
    {
      "cell_type": "code",
      "execution_count": null,
      "metadata": {
        "colab": {
          "base_uri": "https://localhost:8080/",
          "height": 1000
        },
        "id": "PE6mxbCvyYRV",
        "outputId": "97f7bb7d-d5b0-42c1-cef9-3068faed47f6"
      },
      "outputs": [],
      "source": [
        "all_tensions_across_prompt = all_tensions.pivot(index=\"Country Pairing\", columns=\"Prompt Type\", values=\"Tension Score\").reset_index(drop=False)\n",
        "all_tensions_across_prompt"
      ]
    },
    {
      "cell_type": "code",
      "execution_count": null,
      "metadata": {
        "id": "ogPtEHmshIpL"
      },
      "outputs": [],
      "source": [
        "def create_cross_prompt_comparison_chart(df, country_pairing):\n",
        "    country_tensions = df[df[\"Country Pairing\"] == country_pairing]\n",
        "    fig, ax = plt.subplots(figsize=(8, 6))\n",
        "    ax.set_xlabel(f\"Prompts on {country_pairing}\")\n",
        "    ax.set_ylabel(\"Tension Score\")\n",
        "    ax.set_xticks([])\n",
        "    bar_width = 0.4\n",
        "    baseline_bars = ax.bar(np.arange(len(country_tensions)) - bar_width * 1.5, country_tensions[\"Baseline\"], bar_width, label=\"Baseline\", color=\"#1F77B4\")\n",
        "    finance_bars = ax.bar(np.arange(len(country_tensions)) - bar_width * 0.5, country_tensions[\"Financial Basis\"], bar_width, label=\"Financial Basis\", color=\"#2CA02C\")\n",
        "    conflict_bars = ax.bar(np.arange(len(country_tensions)) + bar_width * 0.5, country_tensions[\"Potential Conflict Basis\"], bar_width, label=\"Potential Conflict Basis\", color=\"#D62728\")\n",
        "    social_bars = ax.bar(np.arange(len(country_tensions)) + bar_width * 1.5, country_tensions[\"Social Basis\"], bar_width, label=\"Social Basis\", color=\"#FF7F0E\")\n",
        "    bars = [baseline_bars, finance_bars, conflict_bars, social_bars]\n",
        "    for bar_group in bars:\n",
        "        for bar in bar_group:\n",
        "            height = bar.get_height()\n",
        "            ax.text(bar.get_x() + bar.get_width() / 2, height, f\"{height}\", ha='center', va='bottom', fontdict=dict(size=12))\n",
        "    plt.legend(loc=4, prop={'size': 11})\n",
        "    ax.set_title(f\"Tension Scores for {country_pairing} Across Different Prompts\")\n",
        "    plt.tight_layout()\n",
        "    plt.show()"
      ]
    },
    {
      "cell_type": "code",
      "execution_count": null,
      "metadata": {
        "colab": {
          "base_uri": "https://localhost:8080/",
          "height": 586
        },
        "id": "a3sng1ngjkbI",
        "outputId": "c96afd1e-4b4d-470b-9d4f-19a43a3ab701"
      },
      "outputs": [],
      "source": [
        "create_cross_prompt_comparison_chart(all_tensions_across_prompt, \"China-Israel\")"
      ]
    }
  ],
  "metadata": {
    "accelerator": "TPU",
    "colab": {
      "machine_shape": "hm",
      "provenance": []
    },
    "kernelspec": {
      "display_name": "Python 3",
      "name": "python3"
    },
    "language_info": {
      "name": "python"
    }
  },
  "nbformat": 4,
  "nbformat_minor": 0
}
