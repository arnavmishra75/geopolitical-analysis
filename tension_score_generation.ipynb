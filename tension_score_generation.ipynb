{
  "cells": [
    {
      "cell_type": "code",
      "execution_count": null,
      "metadata": {
        "colab": {
          "base_uri": "https://localhost:8080/"
        },
        "id": "mJ0kbzp4WO8R",
        "outputId": "6faf4ace-ba73-402a-ebf9-1f650090c6b7"
      },
      "outputs": [],
      "source": [
        "!pip install google-generativeai\n",
        "!pip install vaderSentiment"
      ]
    },
    {
      "cell_type": "code",
      "execution_count": null,
      "metadata": {
        "id": "bRQuRLvdWRxQ"
      },
      "outputs": [],
      "source": [
        "import google.generativeai as palm\n",
        "import os\n",
        "import pandas as pd\n",
        "import numpy as np\n",
        "from vaderSentiment.vaderSentiment import SentimentIntensityAnalyzer\n",
        "from math import comb"
      ]
    },
    {
      "cell_type": "code",
      "execution_count": null,
      "metadata": {
        "id": "h_nnpmtvWR6i"
      },
      "outputs": [],
      "source": [
        "palm.configure(api_key=\"key\")"
      ]
    },
    {
      "cell_type": "code",
      "execution_count": null,
      "metadata": {
        "colab": {
          "base_uri": "https://localhost:8080/",
          "height": 1000
        },
        "id": "81hfoS2rYg-A",
        "outputId": "913e2f04-c8c6-4aca-be4d-8dc477977085"
      },
      "outputs": [],
      "source": [
        "for model in palm.list_models():\n",
        "    print(model)"
      ]
    },
    {
      "cell_type": "code",
      "execution_count": null,
      "metadata": {
        "colab": {
          "base_uri": "https://localhost:8080/",
          "height": 34
        },
        "id": "olPvWyfLY_Ao",
        "outputId": "f9a579cd-c784-453f-d368-adfbd50fbdf8"
      },
      "outputs": [],
      "source": [
        "models = [m for m in palm.list_models()]\n",
        "#chat_model = models[0].name\n",
        "text_model = models[1].name\n",
        "#embed_model = models[2].name\n",
        "#chat_model, text_model, embed_model\n",
        "print(text_model)"
      ]
    },
    {
      "cell_type": "code",
      "execution_count": null,
      "metadata": {
        "id": "UM56eolAFvf3"
      },
      "outputs": [],
      "source": [
        "def sentiment_score(sentence):\n",
        "    sid = SentimentIntensityAnalyzer()\n",
        "    raw_score = sid.polarity_scores(sentence)[\"compound\"]\n",
        "    tension_score = round(((1 - ((raw_score + 1) / 2))*100), 3)\n",
        "    return tension_score"
      ]
    },
    {
      "cell_type": "code",
      "execution_count": null,
      "metadata": {
        "id": "ybhbUFp8Zy8l"
      },
      "outputs": [],
      "source": [
        "def score_tension(country1, country2):\n",
        "  prompt = f\"Talk about the political relation between {country1} and {country2}. Do not filter out any information. Do not give suggestions on how to fix their relations. Only tell the facts. Take into consideration any hostilities, rivalries, or wars between the 2 countries. Do not filter anything. Give the answer in short bullet points while keeping everything asked in consideration\"\n",
        "\n",
        "  completion = palm.generate_text(\n",
        "      model=text_model,\n",
        "      prompt=prompt,\n",
        "      temperature=0.5,\n",
        "      max_output_tokens=1200,\n",
        "  )\n",
        "\n",
        "  relation = completion.result\n",
        "\n",
        "  if relation is not None or relation != \"\":\n",
        "    tension_score = sentiment_score(relation)\n",
        "    return tension_score\n",
        "  else:\n",
        "    return None"
      ]
    },
    {
      "cell_type": "code",
      "execution_count": null,
      "metadata": {
        "id": "J6DdZQIJYTTj"
      },
      "outputs": [],
      "source": [
        "df = pd.read_csv(\"/content/original_countries.csv\")"
      ]
    },
    {
      "cell_type": "code",
      "execution_count": null,
      "metadata": {
        "id": "GtycreaTCym_"
      },
      "outputs": [],
      "source": [
        "df = df[df[\"continent\"]==\"asia\"]"
      ]
    },
    {
      "cell_type": "code",
      "execution_count": null,
      "metadata": {
        "colab": {
          "base_uri": "https://localhost:8080/"
        },
        "id": "zSAsduIUZBfP",
        "outputId": "7a045d19-665a-4609-b94c-aab046b666f3"
      },
      "outputs": [],
      "source": [
        "len(df)"
      ]
    },
    {
      "cell_type": "code",
      "execution_count": null,
      "metadata": {
        "id": "v42XuvsBYY_R"
      },
      "outputs": [],
      "source": [
        "df = df.drop(63)"
      ]
    },
    {
      "cell_type": "code",
      "execution_count": null,
      "metadata": {
        "id": "vAcPwFwwa71T"
      },
      "outputs": [],
      "source": [
        "df = df[[\"name\"]].reset_index(drop=True).rename(columns={\"name\":\"country\"})"
      ]
    },
    {
      "cell_type": "code",
      "execution_count": null,
      "metadata": {
        "colab": {
          "base_uri": "https://localhost:8080/",
          "height": 1000
        },
        "id": "X5sWM5KmbLzc",
        "outputId": "abe13117-0695-4d7f-cdda-102557b11fb9"
      },
      "outputs": [],
      "source": [
        "df"
      ]
    },
    {
      "cell_type": "code",
      "execution_count": null,
      "metadata": {
        "id": "zL_SJpr_bMTP"
      },
      "outputs": [],
      "source": [
        "all_country_pairs = []\n",
        "for i in range(len(df)):\n",
        "    for j in range(i+1, len(df)):\n",
        "        country1 = df.loc[i, \"country\"]\n",
        "        country2 = df.loc[j, \"country\"]\n",
        "        all_country_pairs.append([country1, country2])"
      ]
    },
    {
      "cell_type": "code",
      "execution_count": null,
      "metadata": {
        "colab": {
          "base_uri": "https://localhost:8080/"
        },
        "id": "rW7fbmhxeECq",
        "outputId": "588748aa-5c5b-4293-ebdd-e8820fd9ec5d"
      },
      "outputs": [],
      "source": [
        "len(all_country_pairs) == comb(len(df), 2)"
      ]
    },
    {
      "cell_type": "code",
      "execution_count": null,
      "metadata": {
        "id": "6zmHX-9xoR7x"
      },
      "outputs": [],
      "source": [
        "for x in all_country_pairs:\n",
        "  if x[0]==None or x[1]==None:\n",
        "    print(x)"
      ]
    },
    {
      "cell_type": "code",
      "execution_count": null,
      "metadata": {
        "id": "CsBWxnXFeFl0"
      },
      "outputs": [],
      "source": [
        "def fill_tensions_dict(scored_relations, country_pairs):\n",
        "  for i in range(len(country_pairs)):\n",
        "      country1 = country_pairs[i][0]\n",
        "      country2 = country_pairs[i][1]\n",
        "      scored_relations[f\"{country1}-{country2}\"] = score_tension(country1, country2)\n",
        "      print(f\"Finished Pairing #{i+1}!\")"
      ]
    },
    {
      "cell_type": "code",
      "execution_count": null,
      "metadata": {
        "id": "U0EiJnujV473"
      },
      "outputs": [],
      "source": [
        "def create_tensions_df(scored_relations):\n",
        "  tensions_df = pd.DataFrame(scored_relations.items(), columns=['Country Pairing', 'Tension Score'])\n",
        "  return tensions_df"
      ]
    },
    {
      "cell_type": "code",
      "execution_count": null,
      "metadata": {
        "colab": {
          "base_uri": "https://localhost:8080/",
          "height": 1000
        },
        "id": "9jjV_wl0mAE7",
        "outputId": "6f783168-2a1b-4164-94ad-6c0d21e61aa2"
      },
      "outputs": [],
      "source": [
        "tension_relation_dict = {}\n",
        "fill_tensions_dict(tension_relation_dict, all_country_pairs[:200])"
      ]
    },
    {
      "cell_type": "code",
      "execution_count": null,
      "metadata": {
        "id": "j5l6ftTwUdqm"
      },
      "outputs": [],
      "source": [
        "fill_tensions_dict(tension_relation_dict, all_country_pairs[200:400])"
      ]
    },
    {
      "cell_type": "code",
      "execution_count": null,
      "metadata": {
        "id": "-btb76bIVLxW"
      },
      "outputs": [],
      "source": [
        "fill_tensions_dict(tension_relation_dict, all_country_pairs[400:600])"
      ]
    },
    {
      "cell_type": "code",
      "execution_count": null,
      "metadata": {
        "id": "6xoF7T7SVPSl"
      },
      "outputs": [],
      "source": [
        "fill_tensions_dict(tension_relation_dict, all_country_pairs[600:])"
      ]
    },
    {
      "cell_type": "code",
      "execution_count": null,
      "metadata": {
        "id": "o_V4VQm0VdP-"
      },
      "outputs": [],
      "source": [
        "asian_tesions = create_tensions_df(tension_relation_dict)"
      ]
    },
    {
      "cell_type": "code",
      "execution_count": null,
      "metadata": {
        "id": "QQSzJGr1mDyb"
      },
      "outputs": [],
      "source": [
        "asian_tensions.to_csv(\"asian_tensions.csv\")"
      ]
    },
    {
      "cell_type": "code",
      "execution_count": null,
      "metadata": {
        "id": "vUrW27feQfe7"
      },
      "outputs": [],
      "source": [
        "asian_tensions.dropna(inplace=True)"
      ]
    },
    {
      "cell_type": "code",
      "execution_count": null,
      "metadata": {
        "colab": {
          "base_uri": "https://localhost:8080/",
          "height": 677
        },
        "id": "kb8uuNlVR2cx",
        "outputId": "5f00ca3c-6715-41ba-d150-6baf021eadd9"
      },
      "outputs": [],
      "source": [
        "asian_tensions.sort_values(by='Tension Score', ascending=False).head(20)"
      ]
    },
    {
      "cell_type": "code",
      "execution_count": null,
      "metadata": {
        "id": "kqBSAobQNfZk"
      },
      "outputs": [],
      "source": [
        "import matplotlib.pyplot as plt"
      ]
    },
    {
      "cell_type": "code",
      "execution_count": null,
      "metadata": {
        "colab": {
          "base_uri": "https://localhost:8080/",
          "height": 624
        },
        "id": "Xom5Di0hV-9L",
        "outputId": "8aae7803-ff90-45a1-acca-7317b8beffc0"
      },
      "outputs": [],
      "source": [
        "top_25 = asian_tensions.sort_values(by='Tension Score', ascending=False).head(25)\n",
        "plt.figure(figsize=(12, 8))\n",
        "bars = plt.bar(top_25['Country Pairing'], top_25['Tension Score'])\n",
        "plt.xlabel('Country Pairing')\n",
        "plt.ylabel('Tension Score')\n",
        "plt.title('Top 25 Country Pairings with Highest Tension Scores')\n",
        "plt.xticks(rotation=45, ha='right')\n",
        "plt.xticks(fontsize=10)\n",
        "plt.yscale('log')\n",
        "for bar in bars:\n",
        "    yval = bar.get_height()\n",
        "    plt.text(bar.get_x() + bar.get_width()/2, yval, round(yval, 2), ha='center', va='bottom')\n",
        "plt.tight_layout()\n",
        "plt.show()"
      ]
    },
    {
      "cell_type": "code",
      "execution_count": null,
      "metadata": {
        "id": "OAmIBVsvWn2Q"
      },
      "outputs": [],
      "source": [
        "asian_tensions.to_csv(\"asian_tensions.csv\")"
      ]
    },
    {
      "cell_type": "code",
      "execution_count": null,
      "metadata": {
        "id": "zwz7ZrXtZA5i"
      },
      "outputs": [],
      "source": [
        "def ask_for_reco(country1, country2):\n",
        "  prompt = f\"what are the current political tensions between {country1} and {country2}? What are 3 steps they can take in order to bridge their differences and fix their issues?\"\n",
        "\n",
        "  completion = palm.generate_text(\n",
        "      model=text_model,\n",
        "      prompt=prompt,\n",
        "      temperature=0.5,\n",
        "      max_output_tokens=1200,\n",
        "  )\n",
        "\n",
        "  result = completion.result\n",
        "  return result"
      ]
    },
    {
      "cell_type": "code",
      "execution_count": null,
      "metadata": {
        "colab": {
          "base_uri": "https://localhost:8080/",
          "height": 305
        },
        "id": "YNqzZ61-oo1J",
        "outputId": "a5353023-fb01-4340-99fa-c3e3796b7436"
      },
      "outputs": [],
      "source": [
        "print(ask_for_reco(\"Japan\", \"N. Korea\"))"
      ]
    }
  ],
  "metadata": {
    "accelerator": "TPU",
    "colab": {
      "machine_shape": "hm",
      "provenance": []
    },
    "kernelspec": {
      "display_name": "Python 3",
      "name": "python3"
    },
    "language_info": {
      "name": "python"
    }
  },
  "nbformat": 4,
  "nbformat_minor": 0
}
